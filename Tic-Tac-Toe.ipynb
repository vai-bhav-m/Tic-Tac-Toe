{
 "cells": [
  {
   "cell_type": "markdown",
   "metadata": {},
   "source": [
    "# Tic-Tac-Toe Game \n",
    "\n",
    "Let me walk you through how I built a tic tac toe from scratch in python\n",
    "\n",
    "Importing the necessary classes beforehand:"
   ]
  },
  {
   "cell_type": "code",
   "execution_count": null,
   "metadata": {},
   "outputs": [],
   "source": [
    "import numpy as np\n",
    "import random\n",
    "import pandas as pd\n",
    "from IPython.display import clear_output, HTML\n",
    "from time import sleep\n",
    "pd.set_option('mode.chained_assignment', None)"
   ]
  },
  {
   "cell_type": "markdown",
   "metadata": {},
   "source": [
    "## GameBoard Class\n",
    "\n",
    "The GameBoard Class represents a 3 x 3 game board for a tic tac toe game. The GameBoard Class has the following member variables and functions:\n",
    "\n",
    "#### Member variables:-\n",
    "- _board_: a 3x3 numpy array representing the actual game board in the back-end.\n",
    "- _key_: a key which helps translate the back-end game board to the visual classic tic tac toe board.\n",
    "\n",
    "#### Member functions:-\n",
    "- _constructor (\\_\\_init\\__)_: initializes the member variables.\n",
    "- _call (\\_\\_call_\\_\\)_: prints the translated game board when the object is called.\n",
    "- _check_spot_: returns 0 if the spot in the board has previously been filled in the game, else returns 1.\n",
    "- _fill_spot_: fills an empty spot in the board with the desired value. It also prints the board after the play is executed.\n",
    "- _check-win_: returns 1 if the first player has won the game, returns -1 if the second player has won the game, else returns 0 to continue the game.\n",
    "- _check-tie_: returns _True_ if the game has ended as a tie, else returns _False_."
   ]
  },
  {
   "cell_type": "code",
   "execution_count": null,
   "metadata": {},
   "outputs": [],
   "source": [
    "class GameBoard:\n",
    "    def __init__(self):\n",
    "        self.board = np.zeros((3,3))\n",
    "        self.key = {1 : 'X', -1 : 'O', 0 : '_'}\n",
    "        \n",
    "    def __call__(self):      \n",
    "        for row in self.board:\n",
    "            print(self.key[row[0]] + ' ' + self.key[row[1]]+ ' ' + self.key[row[2]])\n",
    "        print('\\n')\n",
    "            \n",
    "    def check_spot(self, play):\n",
    "        if self.board[play] != 0:   # Spot is filled => Invalid play\n",
    "            return 0\n",
    "        return 1                    # Spot is available => Valid play\n",
    "    \n",
    "    def fill_spot(self, play, value = -1):\n",
    "        self.board[play] = value\n",
    "        self()\n",
    "    \n",
    "    def check_win(self):\n",
    "        # Column and Row win\n",
    "        if (3 in self.board.sum(axis=0)) or (3 in self.board.sum(axis=1)):          \n",
    "            return 1                                                               \n",
    "        elif (-3 in self.board.sum(axis=0)) or (-3 in self.board.sum(axis=1)):\n",
    "            return -1\n",
    "    \n",
    "        # Cross win\n",
    "        s1 = self.board[0,0] + self.board[1,1] + self.board[2,2];\n",
    "        s2 = self.board[0,2] + self.board[1,1] + self.board[2,0];\n",
    "        \n",
    "        if ((s1 == 3) or (s2 == 3)):\n",
    "            return 1\n",
    "        elif ((s1 == -3) or (s2 == -3)):\n",
    "            return -1  \n",
    "        \n",
    "        # 1  : Player1 has won => End Game\n",
    "        # -1 : Player2 has won => End Game\n",
    "        # 0  : No one has won yet => Continue Game    \n",
    "        return 0 \n",
    "    \n",
    "    def check_tie(self):\n",
    "        if not(0 in self.board):\n",
    "            return True           # Game has ended as a tie\n",
    "        return False              # Game hasn't ended yet"
   ]
  },
  {
   "cell_type": "markdown",
   "metadata": {},
   "source": [
    "## Player Class\n",
    "\n",
    "The Player Class represents a player in the classical tic tac toe game. It has the following member variables and functions:\n",
    "\n",
    "#### Member variables:-\n",
    "- _translate_: a dictionary used to translate the player's input to a specific location on the board.\n",
    "- _character_: an integer representing the player's move in the back-end.\n",
    "- _computer_: a boolean denoting whether the player is a computer or not.\n",
    "- _name_: the player's chosen Username.\n",
    "\n",
    "#### Member functions:-\n",
    "- _user_record (\\_\\_init\\__)_: checks if the player's username is already present in the scoresheet. If not, it adds the username to it.\n",
    "- _call (\\_\\_call_\\_\\)_: prompts the player to play a move by selecting a spot on the game board and returns th play as location index. \n",
    "- _user_win_: prints the player as the winner and updates the scoresheet by adding a win to the username's \"Wins\" count.\n",
    "- _user_loss_: updates the scoresheet by adding a loss to the username's \"Losses\" count."
   ]
  },
  {
   "cell_type": "code",
   "execution_count": null,
   "metadata": {},
   "outputs": [],
   "source": [
    "class Player:\n",
    "    def __init__(self, computer=False, character=-1):\n",
    "        self.translate = {'Q':(0,0) , 'W':(0,1) , 'E':(0,2),\n",
    "                          'A':(1,0) , 'S':(1,1) , 'D':(1,2),\n",
    "                          'Z':(2,0) , 'X':(2,1) , 'C':(2,2)}\n",
    "        self.character = character                         # 1  => X  \n",
    "        self.computer = computer                           # -1 => O\n",
    "        \n",
    "        clear_output()\n",
    "        if computer == False:\n",
    "            self.name = input(\"Enter your Username(case-sensitive):  \")\n",
    "            self.user_record()\n",
    "            sleep(3)\n",
    "            \n",
    "    def user_record(self):\n",
    "        df = pd.read_csv('Scoresheet.csv')\n",
    "        if sum(df[\"Username\"] == self.name):                              # Checks if a player with the same username\n",
    "            print(f\"Welcome Back {self.name}!\\n\\n Your previous record:\\n\") # has played before. If yes, it displays the  \n",
    "            print(df[[\"Wins\",\"Losses\"]][df[\"Username\"]==self.name])       # players wins and losses \n",
    "        else:\n",
    "            print(f\"Welcome {self.name}!\")                                # If it is a new username, adds a record to\n",
    "            df = df.append({\"Username\": self.name,                        # the scoresheet\n",
    "                       \"Wins\": 0,\n",
    "                       \"Losses\": 0}, ignore_index=True)\n",
    "        \n",
    "        df.to_csv('Scoresheet.csv', index=None)\n",
    "    \n",
    "    def __call__(self):\n",
    "        if self.computer == False:\n",
    "            valid_inputs = list(self.translate.keys())\n",
    "\n",
    "            print(f\"{self.name}'s Turn:\")\n",
    "            play = input(\"Enter your play (according to the format):   \")\n",
    "            while not(play in valid_inputs): \n",
    "                play = input(\"Invalid input. Keep in mind the format shown in the beginning and re-enter:  \")\n",
    "            play = self.translate[play]\n",
    "        \n",
    "        else:\n",
    "            play = (random.randint(0,2), random.randint(0,2))            # The computer randomly makes a play\n",
    "       \n",
    "        return play\n",
    "    \n",
    "    def user_win(self):\n",
    "        df= pd.read_csv(\"Scoresheet.csv\")\n",
    "        if self.computer == False:\n",
    "            df[\"Wins\"][df[\"Username\"]==self.name] += 1\n",
    "            print(f\"\\nCONGRATS {self.name}! YOU HAVE WON THE GAME!!\")\n",
    "        \n",
    "        else:\n",
    "            print(\"\\nOh no, looks like the COMPUTER won!\")\n",
    "    \n",
    "        df.to_csv(\"Scoresheet.csv\", index=None)\n",
    "        \n",
    "        \n",
    "    def user_loss(self):\n",
    "        df= pd.read_csv(\"Scoresheet.csv\")\n",
    "        if self.computer == False:\n",
    "            df[\"Losses\"][df[\"Username\"]==self.name] += 1\n",
    "    \n",
    "        df.to_csv(\"Scoresheet.csv\", index=None)\n",
    "        "
   ]
  },
  {
   "cell_type": "markdown",
   "metadata": {},
   "source": [
    "## Playing the game!\n",
    "\n",
    "To initiate the game, I have declared 2 functions:\n",
    "- _intro_: clears the output screen and prints the introduction with the rules. It also offers a choice to the user to either play against the computer or with another player. Returns a value corresponding to the choice of the user.\n",
    "- _lets_play_: initializes objects and plays the game till it ends as a tie or win."
   ]
  },
  {
   "cell_type": "code",
   "execution_count": null,
   "metadata": {},
   "outputs": [],
   "source": [
    "def intro():\n",
    "    clear_output()\n",
    "    print(\"TTT  III  CCC    TTT   A   CCC    TTT  OOO  EEE\")\n",
    "    print(\" T    I   C       T   A A  C       T   O O  E\")\n",
    "    print(\" T   III  CCC     T  A   A CCC     T   OOO  EEE\")\n",
    "    \n",
    "    print(f\"\\nWelcome to the game of Tic-Tac-Toe!\\n\\nRules of the game:\")\n",
    "    print(\"1. Classic tic tac toe rules\")\n",
    "    print(\"2. There are a total of 9 spaces to fill in a tic tac toe board\")\n",
    "    print(\"3. Use the corresponding keys on your keyboard (remember to keep CAPS LOCK ON) to fill the board:\")\n",
    "    print(\"   Q W E   ->   _ _ _\\n   A S D   ->   _ _ _\\n   Z X C   ->   _ _ _\")\n",
    "    print(f\"\\nTake a few more seconds to grasp the format and then we'll move on.\")           \n",
    "    \n",
    "    sleep(2)\n",
    "    \n",
    "    computer = input(\"\\nJust one last thing: \\nEnter Y if you want play against the computer, else \\nEnter N if you want to play a 2 player game: \\n\")\n",
    "    while not(computer in ['Y', 'N']):\n",
    "        computer = input(\"Invalid input! Enter Y/N (case sensitive): \")\n",
    "    \n",
    "    sleep(2)\n",
    "    return computer"
   ]
  },
  {
   "cell_type": "code",
   "execution_count": null,
   "metadata": {},
   "outputs": [],
   "source": [
    "def lets_play():\n",
    "    computer = intro()\n",
    "    \n",
    "    \n",
    "    Board = GameBoard()\n",
    "    Player1 = Player(False,1)\n",
    "    Player2 = Player(computer=='Y',-1)\n",
    "    \n",
    "    print(\"Let's Begin Playing the Game!!\")\n",
    "    sleep(5)\n",
    "    \n",
    "    while (not(Board.check_win())):\n",
    "        clear_output()\n",
    "        print(\"Current Game Board:\")\n",
    "        Board()\n",
    "        \n",
    "        play = Player1()\n",
    "        while Board.check_spot(play)==0:\n",
    "            print(\"That spot has already been filled! Try some other spot!  \")\n",
    "            play = Player1()\n",
    "        Board.fill_spot(play, Player1.character)\n",
    "        \n",
    "        if Board.check_win() == 1:\n",
    "            Player1.user_win()\n",
    "            Player2.user_loss()\n",
    "            break\n",
    "        \n",
    "        if Board.check_tie():\n",
    "            print(\"Looks like the game ended as a tie and no one won :(\")\n",
    "            break\n",
    "            \n",
    "        if Player2.computer:\n",
    "            print(\"Computer's Turn:\")\n",
    "            sleep(1)\n",
    "        play = Player2()\n",
    "        while Board.check_spot(play)==0:\n",
    "            if Player2.computer == False:\n",
    "                print(\"That spot has already been filled! Try some other spot!  \")\n",
    "            play = Player2()    \n",
    "        Board.fill_spot(play, Player2.character)\n",
    "        \n",
    "        if Board.check_win() == -1:\n",
    "            Player1.user_loss()\n",
    "            Player2.user_win()\n",
    "            break\n",
    "            \n",
    "        sleep(3)\n",
    "    \n",
    "    sleep(3)\n",
    "    clear_output()\n",
    "    print(\"Current Scoresheet:\\n\")\n",
    "    df= pd.read_csv(\"Scoresheet.csv\")\n",
    "    print(df)"
   ]
  },
  {
   "cell_type": "markdown",
   "metadata": {},
   "source": [
    "### Run the cell below to play the game!"
   ]
  },
  {
   "cell_type": "code",
   "execution_count": null,
   "metadata": {
    "scrolled": true
   },
   "outputs": [],
   "source": [
    "lets_play()"
   ]
  },
  {
   "cell_type": "markdown",
   "metadata": {},
   "source": [
    "## Possible improvments to the game:\n",
    "\n",
    "Given the time constraint, this is the best game I can come up with. However, personally, I believe this game could have been improved with more knowledge and time at hand. The ideas that come to my mind as of now are: \n",
    "1. **Implementing Reinforcement Learning(RL)**- RL models can be used to train the computer player to make it a more real competitor. At this stage the computer plays randomly and is fairly easy to defeat.\n",
    "2. **Game Levels**- Having trained the computer with RL, we could add features relating to the level of the bot, say, Easy, Medium and Hard.\n",
    "3. **Improving the User Experience**- There is always room for improvement in the user interface in any application. "
   ]
  },
  {
   "cell_type": "code",
   "execution_count": null,
   "metadata": {},
   "outputs": [],
   "source": []
  },
  {
   "cell_type": "code",
   "execution_count": null,
   "metadata": {},
   "outputs": [],
   "source": []
  }
 ],
 "metadata": {
  "hide_input": false,
  "kernelspec": {
   "display_name": "Python 3",
   "language": "python",
   "name": "python3"
  },
  "language_info": {
   "codemirror_mode": {
    "name": "ipython",
    "version": 3
   },
   "file_extension": ".py",
   "mimetype": "text/x-python",
   "name": "python",
   "nbconvert_exporter": "python",
   "pygments_lexer": "ipython3",
   "version": "3.8.5"
  },
  "toc": {
   "base_numbering": 1,
   "nav_menu": {},
   "number_sections": true,
   "sideBar": true,
   "skip_h1_title": false,
   "title_cell": "Table of Contents",
   "title_sidebar": "Contents",
   "toc_cell": false,
   "toc_position": {},
   "toc_section_display": true,
   "toc_window_display": false
  },
  "varInspector": {
   "cols": {
    "lenName": 16,
    "lenType": 16,
    "lenVar": 40
   },
   "kernels_config": {
    "python": {
     "delete_cmd_postfix": "",
     "delete_cmd_prefix": "del ",
     "library": "var_list.py",
     "varRefreshCmd": "print(var_dic_list())"
    },
    "r": {
     "delete_cmd_postfix": ") ",
     "delete_cmd_prefix": "rm(",
     "library": "var_list.r",
     "varRefreshCmd": "cat(var_dic_list()) "
    }
   },
   "types_to_exclude": [
    "module",
    "function",
    "builtin_function_or_method",
    "instance",
    "_Feature"
   ],
   "window_display": false
  }
 },
 "nbformat": 4,
 "nbformat_minor": 4
}
